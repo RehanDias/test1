{
  "nbformat": 4,
  "nbformat_minor": 0,
  "metadata": {
    "colab": {
      "provenance": []
    },
    "kernelspec": {
      "name": "python3",
      "display_name": "Python 3"
    },
    "language_info": {
      "name": "python"
    }
  },
  "cells": [
    {
      "cell_type": "code",
      "execution_count": 17,
      "metadata": {
        "id": "hofYJS0mWHnZ"
      },
      "outputs": [],
      "source": [
        "from google.colab import files\n",
        "import pandas as pd\n",
        "import seaborn as sns\n",
        "import matplotlib.pyplot as plt\n",
        "from scipy.stats import pearsonr, shapiro, spearmanr\n",
        "from sklearn.linear_model import LinearRegression\n",
        "from sklearn.model_selection import train_test_split, cross_val_score\n",
        "from sklearn.metrics import mean_squared_error, mean_absolute_error, r2_score\n",
        "import numpy as np\n",
        "from statsmodels.stats.outliers_influence import variance_inflation_factor\n",
        "from statsmodels.stats.diagnostic import het_breuschpagan\n",
        "import statsmodels.api as sm\n"
      ]
    },
    {
      "cell_type": "code",
      "source": [
        "# Langkah 1: Unggah dan Persiapan Data\n",
        "print(\"Silakan unggah file CSV Anda:\")\n",
        "uploaded = files.upload()\n",
        "\n",
        "# Membaca file CSV\n",
        "file_name = list(uploaded.keys())[0]\n",
        "data = pd.read_csv(file_name)"
      ],
      "metadata": {
        "colab": {
          "base_uri": "https://localhost:8080/",
          "height": 89
        },
        "id": "-I_BEz8rYgsV",
        "outputId": "82f3acd9-0085-400b-c495-5f13faf84c33"
      },
      "execution_count": 18,
      "outputs": [
        {
          "output_type": "stream",
          "name": "stdout",
          "text": [
            "Silakan unggah file CSV Anda:\n"
          ]
        },
        {
          "output_type": "display_data",
          "data": {
            "text/plain": [
              "<IPython.core.display.HTML object>"
            ],
            "text/html": [
              "\n",
              "     <input type=\"file\" id=\"files-a8dc96cc-68fa-4e06-ab21-b61d6fea482b\" name=\"files[]\" multiple disabled\n",
              "        style=\"border:none\" />\n",
              "     <output id=\"result-a8dc96cc-68fa-4e06-ab21-b61d6fea482b\">\n",
              "      Upload widget is only available when the cell has been executed in the\n",
              "      current browser session. Please rerun this cell to enable.\n",
              "      </output>\n",
              "      <script>// Copyright 2017 Google LLC\n",
              "//\n",
              "// Licensed under the Apache License, Version 2.0 (the \"License\");\n",
              "// you may not use this file except in compliance with the License.\n",
              "// You may obtain a copy of the License at\n",
              "//\n",
              "//      http://www.apache.org/licenses/LICENSE-2.0\n",
              "//\n",
              "// Unless required by applicable law or agreed to in writing, software\n",
              "// distributed under the License is distributed on an \"AS IS\" BASIS,\n",
              "// WITHOUT WARRANTIES OR CONDITIONS OF ANY KIND, either express or implied.\n",
              "// See the License for the specific language governing permissions and\n",
              "// limitations under the License.\n",
              "\n",
              "/**\n",
              " * @fileoverview Helpers for google.colab Python module.\n",
              " */\n",
              "(function(scope) {\n",
              "function span(text, styleAttributes = {}) {\n",
              "  const element = document.createElement('span');\n",
              "  element.textContent = text;\n",
              "  for (const key of Object.keys(styleAttributes)) {\n",
              "    element.style[key] = styleAttributes[key];\n",
              "  }\n",
              "  return element;\n",
              "}\n",
              "\n",
              "// Max number of bytes which will be uploaded at a time.\n",
              "const MAX_PAYLOAD_SIZE = 100 * 1024;\n",
              "\n",
              "function _uploadFiles(inputId, outputId) {\n",
              "  const steps = uploadFilesStep(inputId, outputId);\n",
              "  const outputElement = document.getElementById(outputId);\n",
              "  // Cache steps on the outputElement to make it available for the next call\n",
              "  // to uploadFilesContinue from Python.\n",
              "  outputElement.steps = steps;\n",
              "\n",
              "  return _uploadFilesContinue(outputId);\n",
              "}\n",
              "\n",
              "// This is roughly an async generator (not supported in the browser yet),\n",
              "// where there are multiple asynchronous steps and the Python side is going\n",
              "// to poll for completion of each step.\n",
              "// This uses a Promise to block the python side on completion of each step,\n",
              "// then passes the result of the previous step as the input to the next step.\n",
              "function _uploadFilesContinue(outputId) {\n",
              "  const outputElement = document.getElementById(outputId);\n",
              "  const steps = outputElement.steps;\n",
              "\n",
              "  const next = steps.next(outputElement.lastPromiseValue);\n",
              "  return Promise.resolve(next.value.promise).then((value) => {\n",
              "    // Cache the last promise value to make it available to the next\n",
              "    // step of the generator.\n",
              "    outputElement.lastPromiseValue = value;\n",
              "    return next.value.response;\n",
              "  });\n",
              "}\n",
              "\n",
              "/**\n",
              " * Generator function which is called between each async step of the upload\n",
              " * process.\n",
              " * @param {string} inputId Element ID of the input file picker element.\n",
              " * @param {string} outputId Element ID of the output display.\n",
              " * @return {!Iterable<!Object>} Iterable of next steps.\n",
              " */\n",
              "function* uploadFilesStep(inputId, outputId) {\n",
              "  const inputElement = document.getElementById(inputId);\n",
              "  inputElement.disabled = false;\n",
              "\n",
              "  const outputElement = document.getElementById(outputId);\n",
              "  outputElement.innerHTML = '';\n",
              "\n",
              "  const pickedPromise = new Promise((resolve) => {\n",
              "    inputElement.addEventListener('change', (e) => {\n",
              "      resolve(e.target.files);\n",
              "    });\n",
              "  });\n",
              "\n",
              "  const cancel = document.createElement('button');\n",
              "  inputElement.parentElement.appendChild(cancel);\n",
              "  cancel.textContent = 'Cancel upload';\n",
              "  const cancelPromise = new Promise((resolve) => {\n",
              "    cancel.onclick = () => {\n",
              "      resolve(null);\n",
              "    };\n",
              "  });\n",
              "\n",
              "  // Wait for the user to pick the files.\n",
              "  const files = yield {\n",
              "    promise: Promise.race([pickedPromise, cancelPromise]),\n",
              "    response: {\n",
              "      action: 'starting',\n",
              "    }\n",
              "  };\n",
              "\n",
              "  cancel.remove();\n",
              "\n",
              "  // Disable the input element since further picks are not allowed.\n",
              "  inputElement.disabled = true;\n",
              "\n",
              "  if (!files) {\n",
              "    return {\n",
              "      response: {\n",
              "        action: 'complete',\n",
              "      }\n",
              "    };\n",
              "  }\n",
              "\n",
              "  for (const file of files) {\n",
              "    const li = document.createElement('li');\n",
              "    li.append(span(file.name, {fontWeight: 'bold'}));\n",
              "    li.append(span(\n",
              "        `(${file.type || 'n/a'}) - ${file.size} bytes, ` +\n",
              "        `last modified: ${\n",
              "            file.lastModifiedDate ? file.lastModifiedDate.toLocaleDateString() :\n",
              "                                    'n/a'} - `));\n",
              "    const percent = span('0% done');\n",
              "    li.appendChild(percent);\n",
              "\n",
              "    outputElement.appendChild(li);\n",
              "\n",
              "    const fileDataPromise = new Promise((resolve) => {\n",
              "      const reader = new FileReader();\n",
              "      reader.onload = (e) => {\n",
              "        resolve(e.target.result);\n",
              "      };\n",
              "      reader.readAsArrayBuffer(file);\n",
              "    });\n",
              "    // Wait for the data to be ready.\n",
              "    let fileData = yield {\n",
              "      promise: fileDataPromise,\n",
              "      response: {\n",
              "        action: 'continue',\n",
              "      }\n",
              "    };\n",
              "\n",
              "    // Use a chunked sending to avoid message size limits. See b/62115660.\n",
              "    let position = 0;\n",
              "    do {\n",
              "      const length = Math.min(fileData.byteLength - position, MAX_PAYLOAD_SIZE);\n",
              "      const chunk = new Uint8Array(fileData, position, length);\n",
              "      position += length;\n",
              "\n",
              "      const base64 = btoa(String.fromCharCode.apply(null, chunk));\n",
              "      yield {\n",
              "        response: {\n",
              "          action: 'append',\n",
              "          file: file.name,\n",
              "          data: base64,\n",
              "        },\n",
              "      };\n",
              "\n",
              "      let percentDone = fileData.byteLength === 0 ?\n",
              "          100 :\n",
              "          Math.round((position / fileData.byteLength) * 100);\n",
              "      percent.textContent = `${percentDone}% done`;\n",
              "\n",
              "    } while (position < fileData.byteLength);\n",
              "  }\n",
              "\n",
              "  // All done.\n",
              "  yield {\n",
              "    response: {\n",
              "      action: 'complete',\n",
              "    }\n",
              "  };\n",
              "}\n",
              "\n",
              "scope.google = scope.google || {};\n",
              "scope.google.colab = scope.google.colab || {};\n",
              "scope.google.colab._files = {\n",
              "  _uploadFiles,\n",
              "  _uploadFilesContinue,\n",
              "};\n",
              "})(self);\n",
              "</script> "
            ]
          },
          "metadata": {}
        },
        {
          "output_type": "stream",
          "name": "stdout",
          "text": [
            "Saving data_rapi.csv to data_rapi (5).csv\n"
          ]
        }
      ]
    },
    {
      "cell_type": "code",
      "source": [
        "# Statistik deskriptif awal\n",
        "print(\"\\nStatistik Deskriptif Data:\")\n",
        "print(data.describe())\n",
        "\n",
        "# Cek missing values\n",
        "print(\"\\nJumlah Missing Values:\")\n",
        "print(data.isnull().sum())\n"
      ],
      "metadata": {
        "colab": {
          "base_uri": "https://localhost:8080/"
        },
        "id": "jyshqha8YlKj",
        "outputId": "59ec86b8-f062-4628-c138-ea6b03de947d"
      },
      "execution_count": 19,
      "outputs": [
        {
          "output_type": "stream",
          "name": "stdout",
          "text": [
            "\n",
            "Statistik Deskriptif Data:\n",
            "       Menggunakan Shopee Mengetahui Shopee Live          Nama   Usia  \\\n",
            "count                 145                    145           138    145   \n",
            "unique                  2                      2           138      5   \n",
            "top                    Ya                     Ya  Nama Lengkap  19-25   \n",
            "freq                  144                    144             1     83   \n",
            "\n",
            "       Jenis Kelamin    Pekerjaan X1.1 X1.2 X1.3 X1.4  ... X2.3 X2.4 X2.5  \\\n",
            "count            145          145  145  145  145  145  ...  145  145  145   \n",
            "unique             3           14    6    5    6    6  ...    5    5    5   \n",
            "top        Perempuan  Mahasiswa/i    4    4    4    4  ...    4    4    4   \n",
            "freq             119           65   57   66   68   50  ...   73   74   79   \n",
            "\n",
            "       Total X2   Y1   Y2   Y3   Y4   Y5 Total Y  \n",
            "count       145  145  145  145  145  145     145  \n",
            "unique       16    6    6    5    5    6      17  \n",
            "top          20    4    3    5    4    4      20  \n",
            "freq         32   57   61   73   77   59      25  \n",
            "\n",
            "[4 rows x 24 columns]\n",
            "\n",
            "Jumlah Missing Values:\n",
            "Menggunakan Shopee        0\n",
            "Mengetahui Shopee Live    0\n",
            "Nama                      7\n",
            "Usia                      0\n",
            "Jenis Kelamin             0\n",
            "Pekerjaan                 0\n",
            "X1.1                      0\n",
            "X1.2                      0\n",
            "X1.3                      0\n",
            "X1.4                      0\n",
            "X1.5                      0\n",
            "Total X1                  0\n",
            "X2.1                      0\n",
            "X2.2                      0\n",
            "X2.3                      0\n",
            "X2.4                      0\n",
            "X2.5                      0\n",
            "Total X2                  0\n",
            "Y1                        0\n",
            "Y2                        0\n",
            "Y3                        0\n",
            "Y4                        0\n",
            "Y5                        0\n",
            "Total Y                   0\n",
            "dtype: int64\n"
          ]
        }
      ]
    },
    {
      "cell_type": "code",
      "source": [
        "# Langkah 2: Data Preprocessing\n",
        "if 'Total X1' not in data.columns:\n",
        "    data['Total X1'] = data[['X1.1', 'X1.2', 'X1.3', 'X1.4', 'X1.5']].sum(axis=1)\n",
        "if 'Total Y' not in data.columns:\n",
        "    data['Total Y'] = data[['Y1', 'Y2', 'Y3', 'Y4', 'Y5']].sum(axis=1)\n",
        "\n",
        "# Konversi dan handling missing values\n",
        "data['Total X1'] = pd.to_numeric(data['Total X1'], errors='coerce')\n",
        "data['Total Y'] = pd.to_numeric(data['Total Y'], errors='coerce')\n",
        "data = data.dropna(subset=['Total X1', 'Total Y'])\n",
        "\n",
        "# Deteksi outliers dengan IQR\n",
        "def detect_outliers(df, column):\n",
        "    Q1 = df[column].quantile(0.25)\n",
        "    Q3 = df[column].quantile(0.75)\n",
        "    IQR = Q3 - Q1\n",
        "    lower_bound = Q1 - 1.5 * IQR\n",
        "    upper_bound = Q3 + 1.5 * IQR\n",
        "    outliers = df[(df[column] < lower_bound) | (df[column] > upper_bound)][column]\n",
        "    return len(outliers)"
      ],
      "metadata": {
        "id": "0hEPIhriYniL"
      },
      "execution_count": 20,
      "outputs": []
    },
    {
      "cell_type": "code",
      "source": [
        "print(\"\\nJumlah Outliers:\")\n",
        "print(f\"Total X1: {detect_outliers(data, 'Total X1')}\")\n",
        "print(f\"Total Y: {detect_outliers(data, 'Total Y')}\")"
      ],
      "metadata": {
        "colab": {
          "base_uri": "https://localhost:8080/"
        },
        "id": "N-RB04WwYnpd",
        "outputId": "15632645-0500-4782-b3ad-45ab027f7c0c"
      },
      "execution_count": 21,
      "outputs": [
        {
          "output_type": "stream",
          "name": "stdout",
          "text": [
            "\n",
            "Jumlah Outliers:\n",
            "Total X1: 1\n",
            "Total Y: 2\n"
          ]
        }
      ]
    },
    {
      "cell_type": "code",
      "source": [
        "# Langkah 3: Uji Normalitas\n",
        "def test_normality(data, column):\n",
        "    stat, p = shapiro(data[column])\n",
        "    return p\n",
        "\n",
        "print(\"\\nUji Normalitas (Shapiro-Wilk):\")\n",
        "print(f\"Total X1 p-value: {test_normality(data, 'Total X1'):.4f}\")\n",
        "print(f\"Total Y p-value: {test_normality(data, 'Total Y'):.4f}\")"
      ],
      "metadata": {
        "colab": {
          "base_uri": "https://localhost:8080/"
        },
        "id": "Sg_B2mfmYnrf",
        "outputId": "8d6bfe0b-179a-4bba-b8ab-1e2c685c936a"
      },
      "execution_count": 22,
      "outputs": [
        {
          "output_type": "stream",
          "name": "stdout",
          "text": [
            "\n",
            "Uji Normalitas (Shapiro-Wilk):\n",
            "Total X1 p-value: 0.0001\n",
            "Total Y p-value: 0.0007\n"
          ]
        }
      ]
    },
    {
      "cell_type": "code",
      "source": [
        "# Langkah 4: Analisis Korelasi\n",
        "# Pearson correlation\n",
        "pearson_corr, pearson_p = pearsonr(data['Total X1'], data['Total Y'])\n",
        "# Spearman correlation\n",
        "spearman_corr, spearman_p = spearmanr(data['Total X1'], data['Total Y'])\n",
        "\n",
        "print(\"\\nAnalisis Korelasi:\")\n",
        "print(f\"Pearson correlation: {pearson_corr:.3f} (p-value: {pearson_p:.4f})\")\n",
        "print(f\"Spearman correlation: {spearman_corr:.3f} (p-value: {spearman_p:.4f})\")"
      ],
      "metadata": {
        "colab": {
          "base_uri": "https://localhost:8080/"
        },
        "id": "Clf4f8JmYvXZ",
        "outputId": "0220077e-9ab9-4585-afca-1fea40b0c5b3"
      },
      "execution_count": 23,
      "outputs": [
        {
          "output_type": "stream",
          "name": "stdout",
          "text": [
            "\n",
            "Analisis Korelasi:\n",
            "Pearson correlation: 0.727 (p-value: 0.0000)\n",
            "Spearman correlation: 0.635 (p-value: 0.0000)\n"
          ]
        }
      ]
    },
    {
      "cell_type": "code",
      "source": [
        "# Visualisasi korelasi\n",
        "plt.figure(figsize=(10, 6))\n",
        "sns.regplot(x='Total X1', y='Total Y', data=data, scatter_kws={'alpha':0.5})\n",
        "plt.title('Hubungan Total X1 (Shopee Live) dan Total Y (Minat Pembelian)')\n",
        "plt.xlabel('Total X1 (Shopee Live)')\n",
        "plt.ylabel('Total Y (Minat Pembelian)')\n",
        "plt.show()\n"
      ],
      "metadata": {
        "colab": {
          "base_uri": "https://localhost:8080/",
          "height": 564
        },
        "id": "0QctsNThYvcP",
        "outputId": "812b8344-b898-412e-8fb9-dca6704498aa"
      },
      "execution_count": 24,
      "outputs": [
        {
          "output_type": "display_data",
          "data": {
            "text/plain": [
              "<Figure size 1000x600 with 1 Axes>"
            ],
            "image/png": "[encoded data removed]"
          },
          "metadata": {}
        }
      ]
    },
    {
      "cell_type": "code",
      "source": [
        "# Langkah 5: Analisis Regresi Linear\n",
        "X = data[['Total X1']]\n",
        "y = data['Total Y']\n",
        "\n",
        "# Train-test split\n",
        "X_train, X_test, y_train, y_test = train_test_split(X, y, test_size=0.2, random_state=42)\n",
        "\n",
        "# Model regresi\n",
        "model = LinearRegression()\n",
        "model.fit(X_train, y_train)\n",
        "\n",
        "# Cross-validation\n",
        "cv_scores = cross_val_score(model, X, y, cv=5)\n",
        "print(\"\\nCross-validation scores:\", cv_scores)\n",
        "print(f\"Mean CV Score: {cv_scores.mean():.3f} (+/- {cv_scores.std() * 2:.3f})\")"
      ],
      "metadata": {
        "colab": {
          "base_uri": "https://localhost:8080/"
        },
        "id": "zoHmi7WHYve5",
        "outputId": "3ba33fc9-e7ea-433f-c2fa-ae955dc0de3d"
      },
      "execution_count": 25,
      "outputs": [
        {
          "output_type": "stream",
          "name": "stdout",
          "text": [
            "\n",
            "Cross-validation scores: [0.21410056 0.68576061 0.57890068 0.2485223  0.43088692]\n",
            "Mean CV Score: 0.432 (+/- 0.366)\n"
          ]
        }
      ]
    },
    {
      "cell_type": "code",
      "source": [
        "# Prediksi\n",
        "y_pred = model.predict(X_test)\n",
        "\n",
        "# Metrics\n",
        "mse = mean_squared_error(y_test, y_pred)\n",
        "rmse = np.sqrt(mse)\n",
        "mae = mean_absolute_error(y_test, y_pred)\n",
        "r2 = r2_score(y_test, y_pred)\n",
        "\n",
        "print(\"\\nMetrik Evaluasi Model:\")\n",
        "print(f\"R-squared (R²): {r2:.3f}\")\n",
        "print(f\"Root Mean Squared Error (RMSE): {rmse:.3f}\")\n",
        "print(f\"Mean Absolute Error (MAE): {mae:.3f}\")"
      ],
      "metadata": {
        "colab": {
          "base_uri": "https://localhost:8080/"
        },
        "id": "-pkHUIvoY2RZ",
        "outputId": "3fcdd19c-b1c3-46cf-b92b-b18f06012e37"
      },
      "execution_count": 26,
      "outputs": [
        {
          "output_type": "stream",
          "name": "stdout",
          "text": [
            "\n",
            "Metrik Evaluasi Model:\n",
            "R-squared (R²): 0.240\n",
            "Root Mean Squared Error (RMSE): 2.724\n",
            "Mean Absolute Error (MAE): 2.256\n"
          ]
        }
      ]
    },
    {
      "cell_type": "code",
      "source": [
        "# Langkah 6: Diagnostik Model\n",
        "# Uji Heteroskedastisitas\n",
        "model_sm = sm.OLS(y, sm.add_constant(X)).fit()\n",
        "_, p_value, _, _ = het_breuschpagan(model_sm.resid, model_sm.model.exog)\n",
        "print(f\"\\nBreusch-Pagan test p-value: {p_value:.4f}\")\n"
      ],
      "metadata": {
        "colab": {
          "base_uri": "https://localhost:8080/"
        },
        "id": "wUrwrZrfY2ZS",
        "outputId": "1afe6db9-6767-4694-f430-38cc5dadaa25"
      },
      "execution_count": 27,
      "outputs": [
        {
          "output_type": "stream",
          "name": "stdout",
          "text": [
            "\n",
            "Breusch-Pagan test p-value: 0.5498\n"
          ]
        }
      ]
    },
    {
      "cell_type": "code",
      "source": [
        "# Plot residual\n",
        "residuals = y_test - y_pred\n",
        "plt.figure(figsize=(12, 4))\n"
      ],
      "metadata": {
        "colab": {
          "base_uri": "https://localhost:8080/",
          "height": 52
        },
        "id": "Tjpyt8XxYntM",
        "outputId": "fa372537-0225-4430-c6bc-3275ad52f05c"
      },
      "execution_count": 28,
      "outputs": [
        {
          "output_type": "execute_result",
          "data": {
            "text/plain": [
              "<Figure size 1200x400 with 0 Axes>"
            ]
          },
          "metadata": {},
          "execution_count": 28
        },
        {
          "output_type": "display_data",
          "data": {
            "text/plain": [
              "<Figure size 1200x400 with 0 Axes>"
            ]
          },
          "metadata": {}
        }
      ]
    },
    {
      "cell_type": "code",
      "source": [
        "# Plot residual\n",
        "residuals = y_test - y_pred\n",
        "plt.figure(figsize=(12, 4))\n"
      ],
      "metadata": {
        "colab": {
          "base_uri": "https://localhost:8080/",
          "height": 52
        },
        "id": "mL04xxJUbcOj",
        "outputId": "3008ac9e-8103-402c-ecd2-e5fef9ea4c83"
      },
      "execution_count": 29,
      "outputs": [
        {
          "output_type": "execute_result",
          "data": {
            "text/plain": [
              "<Figure size 1200x400 with 0 Axes>"
            ]
          },
          "metadata": {},
          "execution_count": 29
        },
        {
          "output_type": "display_data",
          "data": {
            "text/plain": [
              "<Figure size 1200x400 with 0 Axes>"
            ]
          },
          "metadata": {}
        }
      ]
    },
    {
      "cell_type": "code",
      "source": [
        "# Plot 2: Q-Q plot\n",
        "plt.subplot(132)\n",
        "sm.graphics.qqplot(residuals, line='45', fit=True)\n",
        "plt.title('Q-Q Plot Residual')\n"
      ],
      "metadata": {
        "colab": {
          "base_uri": "https://localhost:8080/",
          "height": 907
        },
        "id": "FAjDn9WObdzC",
        "outputId": "06d9ce44-01e3-4046-b5e1-a4e79d6cfa26"
      },
      "execution_count": 30,
      "outputs": [
        {
          "output_type": "execute_result",
          "data": {
            "text/plain": [
              "Text(0.5, 1.0, 'Q-Q Plot Residual')"
            ]
          },
          "metadata": {},
          "execution_count": 30
        },
        {
          "output_type": "display_data",
          "data": {
            "text/plain": [
              "<Figure size 640x480 with 1 Axes>"
            ],
            "image/png": "[encoded data removed]"
          },
          "metadata": {}
        },
        {
          "output_type": "display_data",
          "data": {
            "text/plain": [
              "<Figure size 640x480 with 1 Axes>"
            ],
            "image/png": "[encoded data removed]"
          },
          "metadata": {}
        }
      ]
    },
    {
      "cell_type": "code",
      "source": [
        "\n",
        "# Plot 3: Residual vs Predicted\n",
        "plt.subplot(133)\n",
        "plt.scatter(y_pred, residuals)\n",
        "plt.axhline(y=0, color='r', linestyle='--')\n",
        "plt.xlabel('Nilai Prediksi')\n",
        "plt.ylabel('Residual')\n",
        "plt.title('Residual vs Predicted')\n",
        "\n",
        "plt.tight_layout()\n",
        "plt.show()"
      ],
      "metadata": {
        "colab": {
          "base_uri": "https://localhost:8080/",
          "height": 487
        },
        "id": "RsanqUOUbd6V",
        "outputId": "0f3ea2ec-8f53-4a62-8db5-638cc407d95a"
      },
      "execution_count": 31,
      "outputs": [
        {
          "output_type": "display_data",
          "data": {
            "text/plain": [
              "<Figure size 640x480 with 1 Axes>"
            ],
            "image/png": "[encoded data removed]"
          },
          "metadata": {}
        }
      ]
    },
    {
      "cell_type": "code",
      "source": [
        "# Langkah 7: Kesimpulan Komprehensif\n",
        "print(\"\\nKESIMPULAN ANALISIS:\")\n",
        "print(\"1. Kualitas Data:\")\n",
        "print(f\"   - Jumlah data: {len(data)}\")\n",
        "print(f\"   - Missing values: {data.isnull().sum().sum()}\")\n",
        "print(f\"   - Outliers X1: {detect_outliers(data, 'Total X1')}, Y: {detect_outliers(data, 'Total Y')}\")\n"
      ],
      "metadata": {
        "colab": {
          "base_uri": "https://localhost:8080/"
        },
        "id": "gNzS5cO1bd8T",
        "outputId": "a9b13e3c-3cf5-41c0-d572-a996fd3f8eaa"
      },
      "execution_count": 32,
      "outputs": [
        {
          "output_type": "stream",
          "name": "stdout",
          "text": [
            "\n",
            "KESIMPULAN ANALISIS:\n",
            "1. Kualitas Data:\n",
            "   - Jumlah data: 144\n",
            "   - Missing values: 7\n",
            "   - Outliers X1: 1, Y: 2\n"
          ]
        }
      ]
    },
    {
      "cell_type": "code",
      "source": [
        "print(\"\\n2. Normalitas:\")\n",
        "if test_normality(data, 'Total X1') > 0.05:\n",
        "    print(\"   - Data X1 terdistribusi normal\")\n",
        "else:\n",
        "    print(\"   - Data X1 tidak terdistribusi normal\")\n",
        "if test_normality(data, 'Total Y') > 0.05:\n",
        "    print(\"   - Data Y terdistribusi normal\")\n",
        "else:\n",
        "    print(\"   - Data Y tidak terdistribusi normal\")\n"
      ],
      "metadata": {
        "colab": {
          "base_uri": "https://localhost:8080/"
        },
        "id": "DYuC-oYTbd-E",
        "outputId": "76487abb-df58-4285-d560-6b23d0e42b55"
      },
      "execution_count": 33,
      "outputs": [
        {
          "output_type": "stream",
          "name": "stdout",
          "text": [
            "\n",
            "2. Normalitas:\n",
            "   - Data X1 tidak terdistribusi normal\n",
            "   - Data Y tidak terdistribusi normal\n"
          ]
        }
      ]
    },
    {
      "cell_type": "code",
      "source": [
        "print(\"\\n3. Korelasi:\")\n",
        "print(f\"   - Pearson: {pearson_corr:.3f} (p-value: {pearson_p:.4f})\")\n",
        "print(f\"   - Spearman: {spearman_corr:.3f} (p-value: {spearman_p:.4f})\")\n",
        "\n",
        "print(\"\\n4. Model Regresi:\")\n",
        "print(f\"   - R² Score: {r2:.3f}\")\n",
        "print(f\"   - RMSE: {rmse:.3f}\")\n",
        "print(f\"   - MAE: {mae:.3f}\")\n",
        "print(f\"   - Cross-validation mean score: {cv_scores.mean():.3f}\")"
      ],
      "metadata": {
        "colab": {
          "base_uri": "https://localhost:8080/"
        },
        "id": "e49mzZdUbeAC",
        "outputId": "f269a53b-736f-426d-dd6b-8340f060f85b"
      },
      "execution_count": 34,
      "outputs": [
        {
          "output_type": "stream",
          "name": "stdout",
          "text": [
            "\n",
            "3. Korelasi:\n",
            "   - Pearson: 0.727 (p-value: 0.0000)\n",
            "   - Spearman: 0.635 (p-value: 0.0000)\n",
            "\n",
            "4. Model Regresi:\n",
            "   - R² Score: 0.240\n",
            "   - RMSE: 2.724\n",
            "   - MAE: 2.256\n",
            "   - Cross-validation mean score: 0.432\n"
          ]
        }
      ]
    },
    {
      "cell_type": "code",
      "source": [
        "def interpret_correlation_strength(corr):\n",
        "    if corr < 0.2:\n",
        "        return \"sangat lemah\"\n",
        "    elif corr < 0.4:\n",
        "        return \"lemah\"\n",
        "    elif corr < 0.6:\n",
        "        return \"sedang\"\n",
        "    elif corr < 0.8:\n",
        "        return \"kuat\"\n",
        "    else:\n",
        "        return \"sangat kuat\""
      ],
      "metadata": {
        "id": "uN0CdKT_buVg"
      },
      "execution_count": 37,
      "outputs": []
    },
    {
      "cell_type": "code",
      "source": [
        "print(\"\\n5. Asumsi Model:\")\n",
        "if p_value < 0.05:\n",
        "    print(\"   - Terdapat heteroskedastisitas\")\n",
        "else:\n",
        "    print(\"   - Tidak terdapat heteroskedastisitas\")\n",
        "\n",
        "print(\"\\n6. Interpretasi Akhir:\")\n",
        "if pearson_p < 0.05:\n",
        "    print(f\"   - Terdapat hubungan signifikan antara Shopee Live dan Minat Pembelian\")\n",
        "    print(f\"   - Kekuatan hubungan: {abs(pearson_corr):.3f} ({interpret_correlation_strength(abs(pearson_corr))})\")\n",
        "    print(f\"   - Model dapat menjelaskan {r2*100:.1f}% variasi dalam data\")\n",
        "else:\n",
        "    print(\"   - Tidak terdapat hubungan signifikan antara Shopee Live dan Minat Pembelian\")"
      ],
      "metadata": {
        "colab": {
          "base_uri": "https://localhost:8080/"
        },
        "id": "KJ7TL-NvbeBq",
        "outputId": "c57b2153-69de-4a3f-f3ec-64fb4910899f"
      },
      "execution_count": 38,
      "outputs": [
        {
          "output_type": "stream",
          "name": "stdout",
          "text": [
            "\n",
            "5. Asumsi Model:\n",
            "   - Tidak terdapat heteroskedastisitas\n",
            "\n",
            "6. Interpretasi Akhir:\n",
            "   - Terdapat hubungan signifikan antara Shopee Live dan Minat Pembelian\n",
            "   - Kekuatan hubungan: 0.727 (kuat)\n",
            "   - Model dapat menjelaskan 24.0% variasi dalam data\n"
          ]
        }
      ]
    }
  ]
}